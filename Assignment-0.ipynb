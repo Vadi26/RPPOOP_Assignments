{
 "cells": [
  {
   "cell_type": "code",
   "execution_count": 2,
   "id": "c8a45dac",
   "metadata": {},
   "outputs": [
    {
     "name": "stdout",
     "output_type": "stream",
     "text": [
      "Rectangle initialised to 0 dimensions\n",
      "\n",
      "0-Area, 1-Perimeter, 2-Change dimensions, 3-display dimensions, 4-Quit2\n",
      "Enter new length : 200\n",
      "Enter new breadth : 50\n",
      "0-Area, 1-Perimeter, 2-Change dimensions, 3-display dimensions, 4-Quit0\n",
      "Area is :  10000\n",
      "0-Area, 1-Perimeter, 2-Change dimensions, 3-display dimensions, 4-Quit1\n",
      "Perimeter is :  500\n",
      "0-Area, 1-Perimeter, 2-Change dimensions, 3-display dimensions, 4-Quit4\n"
     ]
    }
   ],
   "source": [
    "'''Design and implement a class representing a rectangle and operations like area, perimeter, \n",
    "change dimensions, report dimensions on it. Write code to test your classes'''\n",
    "\n",
    "# Creating a class of rectangle\n",
    "\n",
    "class Rectangle :\n",
    "    def __init__(self, length=0, breadth=0) : # Changed here\n",
    "        self.length = length\n",
    "        self.breadth = breadth\n",
    "        print(\"Rectangle initialised to 0 dimensions\\n\")\n",
    "    def area(self) :\n",
    "        return self.breadth*self.length\n",
    "    def perimeter(self) :\n",
    "        return 2*(self.length + self.breadth)\n",
    "    def modify_dimensions(self, changed_length, changed_breadth) :\n",
    "        self.length = changed_length\n",
    "        self.breadth = changed_breadth\n",
    "    def display_details(self) :\n",
    "        print(f\"Length of rectangle: {self.length}\")\n",
    "        print(f\"Breadth of rectangle: {self.breadth}\\n\")\n",
    "        \n",
    "length = 0\n",
    "breadth = 0\n",
    "shape = Rectangle(length, breadth)\n",
    "while(1):\n",
    "    i = int(input(\"0-Area, 1-Perimeter, 2-Change dimensions, 3-display dimensions, 4-Quit\"))\n",
    "    if (i == 0):\n",
    "        print(\"Area is : \", shape.area())\n",
    "    elif (i == 1):\n",
    "        print(\"Perimeter is : \", shape.perimeter())\n",
    "    elif (i == 2):\n",
    "        length = int(input(\"Enter new length : \"))\n",
    "        breadth = int(input(\"Enter new breadth : \"))\n",
    "        shape.modify_dimensions(length, breadth)\n",
    "    elif (i == 3):\n",
    "        shape.display_details()\n",
    "    elif (i == 4):\n",
    "        break"
   ]
  },
  {
   "cell_type": "code",
   "execution_count": null,
   "id": "3e16f8bb",
   "metadata": {},
   "outputs": [],
   "source": []
  },
  {
   "cell_type": "code",
   "execution_count": null,
   "id": "2ac51c50",
   "metadata": {},
   "outputs": [],
   "source": []
  }
 ],
 "metadata": {
  "kernelspec": {
   "display_name": "Python 3 (ipykernel)",
   "language": "python",
   "name": "python3"
  },
  "language_info": {
   "codemirror_mode": {
    "name": "ipython",
    "version": 3
   },
   "file_extension": ".py",
   "mimetype": "text/x-python",
   "name": "python",
   "nbconvert_exporter": "python",
   "pygments_lexer": "ipython3",
   "version": "3.10.6"
  }
 },
 "nbformat": 4,
 "nbformat_minor": 5
}
