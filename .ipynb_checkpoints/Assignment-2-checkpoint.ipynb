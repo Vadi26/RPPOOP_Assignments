{
 "cells": [
  {
   "cell_type": "code",
   "execution_count": null,
   "id": "ba0ca4ee",
   "metadata": {},
   "outputs": [],
   "source": [
    "'''Define a class to represent a bank account. Include the following details like name of \n",
    "the depositor, account number, type of account, balance amount in the account. Write \n",
    "methods to assign initial values, to deposit an amount, withdraw an amount after \n",
    "checking the balance, to display name, account number, account type and balance.'''\n",
    "\n",
    "import random\n",
    "\n",
    "class Account:\n",
    "    def __init__(self, bank_name, user_name, account_number, account_type, balance = 0):\n",
    "        self.bank_name = bank_name\n",
    "        self.user_name = user_name\n",
    "        self.account_number = account_number\n",
    "        self.account_type = account_type\n",
    "        self.balance = balance\n",
    "\n",
    "    def withdraw(self, amount):\n",
    "        if amount > self.balance:\n",
    "            print(\"Insufficient balance!\")\n",
    "        else:\n",
    "            print(f\"Withdraw of Rs.{amount} was successful\")\n",
    "            self.balance -= amount\n",
    "            print(f\"Balance : {self.balance}\")\n",
    "\n",
    "    def deposit(self, amount):\n",
    "        self.balance += amount\n",
    "        print(f\"Deposit of Rs.{amount} was successful\")\n",
    "        print(f\"Balance : {self.balance}\")\n",
    "\n",
    "    def account_details(self):\n",
    "        print(f\"Bank : {self.bank_name}\")\n",
    "        print(f\"Name : {self.user_name}\")\n",
    "        print(f\"Account type : {self.account_type}\")\n",
    "        print(f\"Account number : {self.account_number}\")\n",
    "        print(f\"Balance : {self.balance}\")\n",
    "\n",
    "new_account = Account(\"SBI\", \"Vadiraj Joshi\", random.randint(100000,999999), \"Savings account\", 0)\n",
    "\n",
    "new_account.account_details()\n",
    "new_account.withdraw(1000)\n",
    "new_account.deposit(10000)\n",
    "new_account.withdraw(5000)\n",
    "new_account.account_details()"
   ]
  }
 ],
 "metadata": {
  "kernelspec": {
   "display_name": "Python 3 (ipykernel)",
   "language": "python",
   "name": "python3"
  },
  "language_info": {
   "codemirror_mode": {
    "name": "ipython",
    "version": 3
   },
   "file_extension": ".py",
   "mimetype": "text/x-python",
   "name": "python",
   "nbconvert_exporter": "python",
   "pygments_lexer": "ipython3",
   "version": "3.10.6"
  }
 },
 "nbformat": 4,
 "nbformat_minor": 5
}
