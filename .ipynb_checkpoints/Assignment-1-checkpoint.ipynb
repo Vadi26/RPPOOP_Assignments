{
 "cells": [
  {
   "cell_type": "code",
   "execution_count": 2,
   "id": "19957c37",
   "metadata": {},
   "outputs": [
    {
     "name": "stdout",
     "output_type": "stream",
     "text": [
      "1 - Speak\n",
      "2 - Eat\n",
      "0 - Quit\n",
      "Enter option: 1\n",
      "Bruno says Woof! Woof!\n",
      "Hazel says Meow\n",
      "Simba says Roar\n",
      "1 - Speak\n",
      "2 - Eat\n",
      "0 - Quit\n",
      "Enter option: 2\n",
      "Bruno eats Dog Food\n",
      "Hazel eats Cat Food\n",
      "Simba eats Prey\n",
      "1 - Speak\n",
      "2 - Eat\n",
      "0 - Quit\n",
      "Enter option: 0\n"
     ]
    }
   ],
   "source": [
    "class Animal:\n",
    "    def __init__(self, name):\n",
    "        self.name = name\n",
    "    def talk(self):\n",
    "        pass\n",
    "    \n",
    "class Dog(Animal):\n",
    "    def talk(self):\n",
    "        return \"Woof! Woof!\"\n",
    "    def eat(self):\n",
    "        return \"Dog Food\"\n",
    "    \n",
    "class Cat(Animal):\n",
    "    def talk(self):\n",
    "        return \"Meow\"\n",
    "    def eat(self):\n",
    "        return \"Cat Food\"\n",
    "    \n",
    "class Lion(Animal):\n",
    "    def talk(self):\n",
    "        return \"Roar\"\n",
    "    def eat(self):\n",
    "        return \"Prey\"\n",
    "    \n",
    "animals = [Dog(\"Bruno\"), Cat(\"Hazel\"), Lion(\"Simba\")]\n",
    "choice = 1 \n",
    "\n",
    "while (choice) :\n",
    "    print(\"0 - Speak\")\n",
    "    print(\"1 - Eat\")\n",
    "    print(\"2 - Quit\")\n",
    "    choice = int(input(\"Enter option: \"))\n",
    "    if (choice == 0) :\n",
    "        for animal in animals :\n",
    "            print(animal.name, \"says\", animal.talk())\n",
    "    elif (choice == 1) :\n",
    "         for animal in animals :\n",
    "            print(animal.name, \"eats\", animal.eat())"
   ]
  },
  {
   "cell_type": "code",
   "execution_count": 4,
   "id": "934d27a1",
   "metadata": {},
   "outputs": [
    {
     "name": "stdout",
     "output_type": "stream",
     "text": [
      "Area of Rectangle : 50 \n",
      "Perimeter of rectangle : 30\n",
      "Area of Square :  625 \n",
      "Perimeter of Square : 100\n"
     ]
    },
    {
     "ename": "NameError",
     "evalue": "name 'pi' is not defined",
     "output_type": "error",
     "traceback": [
      "\u001b[0;31m---------------------------------------------------------------------------\u001b[0m",
      "\u001b[0;31mNameError\u001b[0m                                 Traceback (most recent call last)",
      "Cell \u001b[0;32mIn[4], line 40\u001b[0m\n\u001b[1;32m     38\u001b[0m \u001b[38;5;28mprint\u001b[39m(\u001b[38;5;124m\"\u001b[39m\u001b[38;5;124mArea of Rectangle :\u001b[39m\u001b[38;5;124m\"\u001b[39m, rec\u001b[38;5;241m.\u001b[39marea(), \u001b[38;5;124m\"\u001b[39m\u001b[38;5;130;01m\\n\u001b[39;00m\u001b[38;5;124mPerimeter of rectangle :\u001b[39m\u001b[38;5;124m\"\u001b[39m, rec\u001b[38;5;241m.\u001b[39mperimeter())\n\u001b[1;32m     39\u001b[0m \u001b[38;5;28mprint\u001b[39m(\u001b[38;5;124m\"\u001b[39m\u001b[38;5;124mArea of Square : \u001b[39m\u001b[38;5;124m\"\u001b[39m, squ\u001b[38;5;241m.\u001b[39marea(), \u001b[38;5;124m\"\u001b[39m\u001b[38;5;130;01m\\n\u001b[39;00m\u001b[38;5;124mPerimeter of Square :\u001b[39m\u001b[38;5;124m\"\u001b[39m, squ\u001b[38;5;241m.\u001b[39mperimeter())\n\u001b[0;32m---> 40\u001b[0m \u001b[38;5;28mprint\u001b[39m(\u001b[38;5;124m\"\u001b[39m\u001b[38;5;124mArea of Circle :\u001b[39m\u001b[38;5;124m\"\u001b[39m, \u001b[43mcir\u001b[49m\u001b[38;5;241;43m.\u001b[39;49m\u001b[43marea\u001b[49m\u001b[43m(\u001b[49m\u001b[43m)\u001b[49m)\n",
      "Cell \u001b[0;32mIn[4], line 32\u001b[0m, in \u001b[0;36mCircle.area\u001b[0;34m(self)\u001b[0m\n\u001b[1;32m     31\u001b[0m \u001b[38;5;28;01mdef\u001b[39;00m \u001b[38;5;21marea\u001b[39m(\u001b[38;5;28mself\u001b[39m):\n\u001b[0;32m---> 32\u001b[0m     \u001b[38;5;28;01mreturn\u001b[39;00m \u001b[43mpi\u001b[49m \u001b[38;5;241m*\u001b[39m \u001b[38;5;28mself\u001b[39m\u001b[38;5;241m.\u001b[39mradius \u001b[38;5;241m*\u001b[39m \u001b[38;5;28mself\u001b[39m\u001b[38;5;241m.\u001b[39mradius\n",
      "\u001b[0;31mNameError\u001b[0m: name 'pi' is not defined"
     ]
    }
   ],
   "source": [
    "import math\n",
    "class Shapes:\n",
    "    def __init__(self, name):\n",
    "        self.name = name\n",
    "    def area(self):\n",
    "        pass\n",
    "    \n",
    "class Rectangle(Shapes):\n",
    "    def __init__(self, name, length, breadth):\n",
    "        self.name = name\n",
    "        self.length = length\n",
    "        self.breadth = breadth\n",
    "    def area(self):\n",
    "        return self.length * self.breadth\n",
    "    def perimeter(self):\n",
    "        return 2*(self.length + self.breadth)\n",
    "    \n",
    "class Square(Shapes):\n",
    "    def __init__(self, name, side):\n",
    "        self.name = name\n",
    "        self.side = side\n",
    "    def area(self):\n",
    "        return self.side * self.side\n",
    "    def perimeter(self):\n",
    "        return self.side * 4\n",
    "    \n",
    "class Circle(Shapes):\n",
    "    def __init__(self, name, radius):\n",
    "        self.name = name\n",
    "        self.radius = radius\n",
    "    def area(self):\n",
    "        return 3.14 * self.radius * self.radius\n",
    "    \n",
    "rec = Rectangle(\"rec\", 10, 5)\n",
    "squ = Square(\"squ\", 25)\n",
    "cir = Circle(\"cir\", 7)\n",
    "\n",
    "print(\"Area of Rectangle :\", rec.area(), \"\\nPerimeter of rectangle :\", rec.perimeter())\n",
    "print(\"Area of Square : \", squ.area(), \"\\nPerimeter of Square :\", squ.perimeter())\n",
    "print(\"Area of Circle :\", cir.area())"
   ]
  },
  {
   "cell_type": "code",
   "execution_count": null,
   "id": "5ce7ebd0",
   "metadata": {},
   "outputs": [],
   "source": []
  }
 ],
 "metadata": {
  "kernelspec": {
   "display_name": "Python 3 (ipykernel)",
   "language": "python",
   "name": "python3"
  },
  "language_info": {
   "codemirror_mode": {
    "name": "ipython",
    "version": 3
   },
   "file_extension": ".py",
   "mimetype": "text/x-python",
   "name": "python",
   "nbconvert_exporter": "python",
   "pygments_lexer": "ipython3",
   "version": "3.10.6"
  }
 },
 "nbformat": 4,
 "nbformat_minor": 5
}
