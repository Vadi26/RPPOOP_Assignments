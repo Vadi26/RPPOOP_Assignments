{
 "cells": [
  {
   "cell_type": "code",
   "execution_count": null,
   "id": "1dd34d8d",
   "metadata": {},
   "outputs": [],
   "source": [
    "'''Write a program to display two labels with different color background'''\n",
    "\n",
    "import tkinter as tk\n",
    "\n",
    "root = tk.Tk()\n",
    "label1 = tk.Label(root, text=\"Label 1\", bg=\"blue\", fg=\"white\")\n",
    "label1.pack()\n",
    "\n",
    "# Create the second label with a green background\n",
    "label2 = tk.Label(root, text=\"Label 2\", bg=\"green\", fg=\"black\")\n",
    "label2.pack()\n",
    "\n",
    "# Run the event loop\n",
    "root.mainloop()"
   ]
  }
 ],
 "metadata": {
  "kernelspec": {
   "display_name": "Python 3 (ipykernel)",
   "language": "python",
   "name": "python3"
  },
  "language_info": {
   "codemirror_mode": {
    "name": "ipython",
    "version": 3
   },
   "file_extension": ".py",
   "mimetype": "text/x-python",
   "name": "python",
   "nbconvert_exporter": "python",
   "pygments_lexer": "ipython3",
   "version": "3.10.6"
  }
 },
 "nbformat": 4,
 "nbformat_minor": 5
}
