{
 "cells": [
  {
   "cell_type": "code",
   "execution_count": 2,
   "id": "19957c37",
   "metadata": {},
   "outputs": [
    {
     "name": "stdout",
     "output_type": "stream",
     "text": [
      "1 - Speak\n",
      "2 - Eat\n",
      "0 - Quit\n",
      "Enter option: 1\n",
      "Bruno says Woof! Woof!\n",
      "Hazel says Meow\n",
      "Simba says Roar\n",
      "1 - Speak\n",
      "2 - Eat\n",
      "0 - Quit\n",
      "Enter option: 2\n",
      "Bruno eats Dog Food\n",
      "Hazel eats Cat Food\n",
      "Simba eats Prey\n",
      "1 - Speak\n",
      "2 - Eat\n",
      "0 - Quit\n",
      "Enter option: 0\n"
     ]
    }
   ],
   "source": [
    "class Animal:\n",
    "    def __init__(self, name):\n",
    "        self.name = name\n",
    "    def talk(self):\n",
    "        pass\n",
    "    \n",
    "class Dog(Animal):\n",
    "    def talk(self):\n",
    "        return \"Woof! Woof!\"\n",
    "    def eat(self):\n",
    "        return \"Dog Food\"\n",
    "    \n",
    "class Cat(Animal):\n",
    "    def talk(self):\n",
    "        return \"Meow\"\n",
    "    def eat(self):\n",
    "        return \"Cat Food\"\n",
    "    \n",
    "class Lion(Animal):\n",
    "    def talk(self):\n",
    "        return \"Roar\"\n",
    "    def eat(self):\n",
    "        return \"Prey\"\n",
    "    \n",
    "animals = [Dog(\"Bruno\"), Cat(\"Hazel\"), Lion(\"Simba\")]\n",
    "choice = 1 \n",
    "\n",
    "while (choice) :\n",
    "    print(\"0 - Speak\")\n",
    "    print(\"1 - Eat\")\n",
    "    print(\"2 - Quit\")\n",
    "    choice = int(input(\"Enter option: \"))\n",
    "    if (choice == 0) :\n",
    "        for animal in animals :\n",
    "            print(animal.name, \"says\", animal.talk())\n",
    "    elif (choice == 1) :\n",
    "         for animal in animals :\n",
    "            print(animal.name, \"eats\", animal.eat())"
   ]
  },
  {
   "cell_type": "code",
   "execution_count": 5,
   "id": "934d27a1",
   "metadata": {},
   "outputs": [
    {
     "name": "stdout",
     "output_type": "stream",
     "text": [
      "Area of Rectangle : 50 \n",
      "Perimeter of rectangle : 30\n",
      "Area of Square :  625 \n",
      "Perimeter of Square : 100\n",
      "Area of Circle : 153.86\n"
     ]
    }
   ],
   "source": [
    "import math\n",
    "class Shapes:\n",
    "    def __init__(self, name):\n",
    "        self.name = name\n",
    "    def area(self):\n",
    "        pass\n",
    "    \n",
    "class Rectangle(Shapes):\n",
    "    def __init__(self, name, length, breadth):\n",
    "        self.name = name\n",
    "        self.length = length\n",
    "        self.breadth = breadth\n",
    "    def area(self):\n",
    "        return self.length * self.breadth\n",
    "    def perimeter(self):\n",
    "        return 2*(self.length + self.breadth)\n",
    "    \n",
    "class Square(Shapes):\n",
    "    def __init__(self, name, side):\n",
    "        self.name = name\n",
    "        self.side = side\n",
    "    def area(self):\n",
    "        return self.side * self.side\n",
    "    def perimeter(self):\n",
    "        return self.side * 4\n",
    "    \n",
    "class Circle(Shapes):\n",
    "    def __init__(self, name, radius):\n",
    "        self.name = name\n",
    "        self.radius = radius\n",
    "    def area(self):\n",
    "        return 3.14 * self.radius * self.radius\n",
    "    \n",
    "rec = Rectangle(\"rec\", 10, 5)\n",
    "squ = Square(\"squ\", 25)\n",
    "cir = Circle(\"cir\", 7)\n",
    "\n",
    "print(\"Area of Rectangle :\", rec.area(), \"\\nPerimeter of rectangle :\", rec.perimeter())\n",
    "print(\"Area of Square : \", squ.area(), \"\\nPerimeter of Square :\", squ.perimeter())\n",
    "print(\"Area of Circle :\", cir.area())"
   ]
  },
  {
   "cell_type": "code",
   "execution_count": null,
   "id": "6b9c57ac",
   "metadata": {},
   "outputs": [],
   "source": []
  }
 ],
 "metadata": {
  "kernelspec": {
   "display_name": "Python 3 (ipykernel)",
   "language": "python",
   "name": "python3"
  },
  "language_info": {
   "codemirror_mode": {
    "name": "ipython",
    "version": 3
   },
   "file_extension": ".py",
   "mimetype": "text/x-python",
   "name": "python",
   "nbconvert_exporter": "python",
   "pygments_lexer": "ipython3",
   "version": "3.10.6"
  }
 },
 "nbformat": 4,
 "nbformat_minor": 5
}
